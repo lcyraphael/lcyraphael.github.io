{
 "cells": [
  {
   "cell_type": "markdown",
   "metadata": {},
   "source": [
    "## Common python interview questions - Part 1\n",
    "\n",
    "Raphael Leung\n",
    "\n",
    "\"Once you stop learning you start dying\" -- Albert Einstein\n",
    "\n",
    "\"I hate job interviews\" -- Me\n",
    "\n",
    "Part 1 (33 questions) focuses on python basic built-in types and functions, primarily around mutablility and related concerns in hashing and garbage collection. It takes from many great Internet sources, cited where possible, and is by no means exhaustive. \n",
    "\n",
    "Feel free to build upon it whether you find this helpful or think it's terrible. Remember to make it public to pay it forward!\n",
    "\n",
    "#### 1. docstring vs comments"
   ]
  },
  {
   "cell_type": "code",
   "execution_count": 1,
   "metadata": {},
   "outputs": [
    {
     "name": "stdout",
     "output_type": "stream",
     "text": [
      "\n",
      "This function demonstrate the use of docstring in Python.\n",
      "    \n",
      "Help on function someFunction in module __main__:\n",
      "\n",
      "someFunction()\n",
      "    This function demonstrate the use of docstring in Python.\n",
      "\n",
      "None\n"
     ]
    }
   ],
   "source": [
    "def someFunction():\n",
    "    \"\"\"\n",
    "This function demonstrate the use of docstring in Python.\n",
    "    \"\"\"\n",
    "    print(\"Hello world\")\n",
    "\n",
    "# docstrings are different from  comments /multiline comments\n",
    "print(someFunction.__doc__)\n",
    "print(help(someFunction))"
   ]
  },
  {
   "cell_type": "markdown",
   "metadata": {},
   "source": [
    "**Docstrings** are defined with triple quotes (single or double). It explicitly marks something as documentation. An IDE can display them as part of their tooltips or a documentation application can compile them into usable HTML documentation.\n",
    "\n",
    "**Comments** are defined with hashes (# for each line for multiline comments). They are used to describe why the code is written the way it is/ specifying TODO/ if code's optimized/ not immediately clear why it's written that way. Not meant as documentation. \n",
    "\n",
    "Docstrings can be accessed (with help(object) or object.\\__doc\\__) at runtime whereas inline comments cannot be accessed.\n",
    "\n",
    "#### 2. What happens when you invoke print()? / What's the difference between str() vs repr()?\n",
    "\n",
    "They're all [built-in functions](https://docs.python.org/3/library/functions.html).\n",
    "\n",
    "print() uses the \\__str\\__() method to display the string representation of the object while the repr() built-in function uses \\__repr\\__() to display the object.\n",
    "\n",
    "`str()` is used for creating output for end user - it's an \"informal\" string representation of an object. It's meant to be readable.\n",
    "\n",
    "`repr()` is mainly used for debugging and development - it's an \"official\" string representation of an object. It's meant to be unambiguous."
   ]
  },
  {
   "cell_type": "code",
   "execution_count": 2,
   "metadata": {},
   "outputs": [
    {
     "name": "stdout",
     "output_type": "stream",
     "text": [
      "2018-05-29\n",
      "datetime.date(2018, 5, 29)\n"
     ]
    }
   ],
   "source": [
    "import datetime\n",
    "print(str(datetime.date.today()))\n",
    "print(repr(datetime.date.today()))"
   ]
  },
  {
   "cell_type": "markdown",
   "metadata": {},
   "source": [
    "Good rule is to implement \\__repr\\__ for any user-defined class. Implement \\__str\\__ too if you think it would be useful to have a string version which errs on the side of more readability in favor of more ambiguity. [source](https://stackoverflow.com/questions/1436703/difference-between-str-and-repr)\n",
    "\n",
    "#### 3. list vs tuples"
   ]
  },
  {
   "cell_type": "code",
   "execution_count": 3,
   "metadata": {},
   "outputs": [
    {
     "name": "stdout",
     "output_type": "stream",
     "text": [
      "When an object is initiated, it is assigned a unique object id\n",
      "list id:  139782056403784\n",
      "tuple id:  139782065549456\n",
      "\n",
      "Now add an element to each:\n",
      "list id:  139782056403784 (mutable; same object)\n",
      "tuple id:  139782055979352 (immutable; different object)\n"
     ]
    }
   ],
   "source": [
    "print(\"When an object is initiated, it is assigned a unique object id\")\n",
    "lst = [1,2,3] # or lst = list([1,2,3])\n",
    "print(\"list id: \",id(lst))\n",
    "tpl = (1,2,3) # or tpl = tuple((1,2,3)) or tpl = 1,2,3\n",
    "print(\"tuple id: \",id(tpl))\n",
    "print(\"\\nNow add an element to each:\")\n",
    "lst.append(4)\n",
    "print(\"list id: \",id(lst), \"(mutable; same object)\")\n",
    "tpl = tpl + (4,) # NB To create a tuple of 1 item, put a comma after it\n",
    "print(\"tuple id: \",id(tpl), \"(immutable; different object)\")"
   ]
  },
  {
   "cell_type": "markdown",
   "metadata": {},
   "source": [
    "- Tuples are immutable (cannot be changed after creation) whereas lists are mutable (can be changed after creation).\n",
    "- There are methods to change contents of lists (e.g. `append()`, `insert()`, `pop()`, [more](https://docs.python.org/3.6/tutorial/datastructures.html)) which do not exist for tuples\n",
    "- You can add new elements to both tuples and lists. Only difference being id of the tuple will be changed (i.e., instead of modifying the original tuple, it creates a new object).\n",
    "- Immutable are quicker to access than mutable objects, requiring less memory.\n",
    "- Tuples usually contain a heterogeneous sequence of elements that are accessed via unpacking or indexing (or even by attribute in the case of namedtuples). List elements are usually homogeneous and are accessed by iteration.\n",
    "\n",
    "#### 4. Can tuples contain mutable objects? Can you assign to individual items of a tuple?"
   ]
  },
  {
   "cell_type": "code",
   "execution_count": 4,
   "metadata": {},
   "outputs": [
    {
     "name": "stdout",
     "output_type": "stream",
     "text": [
      "[1, 2, 3]\n"
     ]
    },
    {
     "ename": "TypeError",
     "evalue": "'tuple' object does not support item assignment",
     "output_type": "error",
     "traceback": [
      "\u001b[0;31m---------------------------------------------------------------------------\u001b[0m",
      "\u001b[0;31mTypeError\u001b[0m                                 Traceback (most recent call last)",
      "\u001b[0;32m<ipython-input-4-bd54ad4ffd1b>\u001b[0m in \u001b[0;36m<module>\u001b[0;34m()\u001b[0m\n\u001b[1;32m      1\u001b[0m \u001b[0mv\u001b[0m \u001b[0;34m=\u001b[0m \u001b[0;34m(\u001b[0m\u001b[0;34m[\u001b[0m\u001b[0;36m1\u001b[0m\u001b[0;34m,\u001b[0m \u001b[0;36m2\u001b[0m\u001b[0;34m,\u001b[0m \u001b[0;36m3\u001b[0m\u001b[0;34m]\u001b[0m\u001b[0;34m,\u001b[0m \u001b[0;34m\"oh la la\"\u001b[0m\u001b[0;34m,\u001b[0m \u001b[0;36m1\u001b[0m\u001b[0;34m)\u001b[0m\u001b[0;34m\u001b[0m\u001b[0m\n\u001b[1;32m      2\u001b[0m \u001b[0mprint\u001b[0m\u001b[0;34m(\u001b[0m\u001b[0mv\u001b[0m\u001b[0;34m[\u001b[0m\u001b[0;36m0\u001b[0m\u001b[0;34m]\u001b[0m\u001b[0;34m)\u001b[0m\u001b[0;34m\u001b[0m\u001b[0m\n\u001b[0;32m----> 3\u001b[0;31m \u001b[0mv\u001b[0m\u001b[0;34m[\u001b[0m\u001b[0;36m0\u001b[0m\u001b[0;34m]\u001b[0m \u001b[0;34m=\u001b[0m \u001b[0;34m[\u001b[0m\u001b[0;36m1\u001b[0m\u001b[0;34m,\u001b[0m\u001b[0;36m2\u001b[0m\u001b[0;34m]\u001b[0m\u001b[0;34m\u001b[0m\u001b[0m\n\u001b[0m",
      "\u001b[0;31mTypeError\u001b[0m: 'tuple' object does not support item assignment"
     ]
    }
   ],
   "source": [
    "v = ([1, 2, 3], \"oh la la\", 1)\n",
    "print(v[0])\n",
    "v[0] = [1,2]"
   ]
  },
  {
   "cell_type": "markdown",
   "metadata": {},
   "source": [
    "Yes. E.g. The above immutable tuple ``([1, 2, 3], \"oh la la\", 1)`` contains a mutable list, an immutable string and immutable int. \n",
    "\n",
    "You can access an object by index but, no, you cannot assign to individual items (again, because a tuple is immutable).\n",
    "\n",
    "#### 5. What built in types are mutable and which are immutable?\n",
    "\n",
    "The principal [built-in types](https://docs.python.org/3.6/library/stdtypes.html) are numerics (int, float, complex), sequences (basic sequence: list, tuple, range | text sequence: str | binary sequence: byte, bytearray, memoryview), mappings (dict), classes, instances and exceptions.\n",
    "\n",
    "Common immutable type:\n",
    "- numeric: int, float, complex\n",
    "- immutable sequences: str, tuple, frozenset, bytes\n",
    "- bool, unicode\n",
    "\n",
    "Common mutable type (almost everything else):\n",
    "- mutable sequences: list, bytearray\n",
    "- set type: set\n",
    "- mapping type: dict\n",
    "- user-defined classes, class instances, unless specifically made immutable.\n",
    "\n",
    "Objects of built-in types like (int, float, bool, str, tuple) are immutable. Objects of built-in types like (list, set, dict) are mutable. \n",
    "\n",
    "Simple put, a **mutable object can be modified during runtime** after creation, and an immutable object can’t.\n",
    "\n",
    "Mutable objects are great to use when you need to change the size of the object, example list, dict etc. Immutables are used when you need to ensure that the object you made will always stay the same. Immutable objects are fundamentally expensive to “change”, because doing so involves creating a copy. Changing mutable objects is cheap.[source](https://medium.com/@meghamohan/mutable-and-immutable-side-of-python-c2145cf72747)\n",
    "\n",
    "#### 6. Explain collections/ containers and how might you check if a datatype is one of them?\n",
    "\n",
    "In a general computer science sense, \"containers\" and \"collections\" usually mean an object that holds an arbitrary number of other objects. Generally, containers provide a way to access the contained objects and to iterate over them.\n",
    "\n",
    "Specifically, in python, there's the `collections` module that provides some abstract base classes, including `Container`, `Collection`, `Iterable` etc. [docs](https://docs.python.org/dev/library/collections.abc.html#collections-abstract-base-classes) \n",
    "\n",
    "To check if an object is a `Collection`, we can use `isinstance()` or see if there's a \\__contains\\__() method:"
   ]
  },
  {
   "cell_type": "code",
   "execution_count": 7,
   "metadata": {},
   "outputs": [
    {
     "name": "stdout",
     "output_type": "stream",
     "text": [
      "int:  False\n",
      "str:  True\n",
      "tuple:  True\n",
      "list:  True\n",
      "dict:  True\n",
      "set:  True\n"
     ]
    }
   ],
   "source": [
    "import collections\n",
    "print(\"int: \",isinstance(5, collections.abc.Container))\n",
    "print(\"str: \",isinstance(\"5\", collections.abc.Container))\n",
    "print(\"tuple: \",isinstance((), collections.abc.Container))\n",
    "print(\"list: \",isinstance([], collections.abc.Container))\n",
    "print(\"dict: \",isinstance({\"one\":1}, collections.abc.Container))\n",
    "print(\"set: \",isinstance({\"one\",1}, collections.abc.Container))"
   ]
  },
  {
   "cell_type": "markdown",
   "metadata": {},
   "source": [
    "Examples of containers include tuple, list, set, dict; these are the built-in containers. More container types are available in the collections module.\n",
    "\n",
    "Tuples and lists are ordered collections. Sets and dictionary keys are unordered (unless you use OrderedSet, OrderedDict).\n",
    "\n",
    "> Strictly speaking, the `collections.abc.Container` abstract base class holds for any type that supports the in operator via the \\__contains\\__ magic method; so if you can write x in y then y is usually a container, but not always: an important point of difference between containers and general iterables is that when iterated over, containers will return existing objects that they hold a reference to, while generators and e.g. file objects will create a new object each time. This has implications for garbage collection and deep object traversal (e.g. deepcopy and serialisation). [source](https://stackoverflow.com/questions/11575925/what-exactly-are-containers-in-python-and-what-are-all-the-python-container)\n",
    "\n",
    "If isinstance(x, collections.abc.Container) then x is a python Container and e.g. supports the in operator.\n",
    "\n",
    "You can check if an object is an `Iterable` in a similar way, though keep in mind there are pecularities. [source](https://stackoverflow.com/questions/1952464/in-python-how-do-i-determine-if-an-object-is-iterable)."
   ]
  },
  {
   "cell_type": "markdown",
   "metadata": {},
   "source": [
    "#### 7. Can you use containers (like list or tuple) as dict keys?/ Can you hash a list or tuple?\n",
    "\n",
    "Only tuples. You need an object that is hashable for a dictionary key/ stored in set or frozenset instances. \n",
    "\n",
    "All of Python’s immutable built-in objects are hashable; mutable containers (such as lists or dictionaries) are not. \n",
    "\n",
    "> The only operation that immutable sequence types generally implement that is not also implemented by mutable sequence types is support for the hash() built-in.\n",
    "\n",
    "> This support allows immutable sequences, such as tuple instances, to be used as dict keys and stored in set and frozenset instances.\n",
    "\n",
    "> Attempting to hash an immutable sequence that contains unhashable values will result in TypeError.\" [source](https://docs.python.org/3.6/library/stdtypes.html#immutable-sequence-types)"
   ]
  },
  {
   "cell_type": "code",
   "execution_count": 8,
   "metadata": {},
   "outputs": [
    {
     "name": "stdout",
     "output_type": "stream",
     "text": [
      "Hashed int:  1323\n",
      "Hashed str:  -5207345315844737417\n",
      "Hashed tuple:  2528502973977326415\n"
     ]
    },
    {
     "ename": "TypeError",
     "evalue": "unhashable type: 'list'",
     "output_type": "error",
     "traceback": [
      "\u001b[0;31m---------------------------------------------------------------------------\u001b[0m",
      "\u001b[0;31mTypeError\u001b[0m                                 Traceback (most recent call last)",
      "\u001b[0;32m<ipython-input-8-a188974112bb>\u001b[0m in \u001b[0;36m<module>\u001b[0;34m()\u001b[0m\n\u001b[1;32m      2\u001b[0m \u001b[0mprint\u001b[0m\u001b[0;34m(\u001b[0m\u001b[0;34m\"Hashed str: \"\u001b[0m\u001b[0;34m,\u001b[0m\u001b[0mhash\u001b[0m\u001b[0;34m(\u001b[0m\u001b[0;34m\"abc\"\u001b[0m\u001b[0;34m)\u001b[0m\u001b[0;34m)\u001b[0m \u001b[0;31m# works\u001b[0m\u001b[0;34m\u001b[0m\u001b[0m\n\u001b[1;32m      3\u001b[0m \u001b[0mprint\u001b[0m\u001b[0;34m(\u001b[0m\u001b[0;34m\"Hashed tuple: \"\u001b[0m\u001b[0;34m,\u001b[0m\u001b[0mhash\u001b[0m\u001b[0;34m(\u001b[0m\u001b[0;34m(\u001b[0m\u001b[0;36m1\u001b[0m\u001b[0;34m,\u001b[0m\u001b[0;36m2\u001b[0m\u001b[0;34m,\u001b[0m\u001b[0;36m3\u001b[0m\u001b[0;34m)\u001b[0m\u001b[0;34m)\u001b[0m\u001b[0;34m)\u001b[0m \u001b[0;31m# works\u001b[0m\u001b[0;34m\u001b[0m\u001b[0m\n\u001b[0;32m----> 4\u001b[0;31m \u001b[0mhash\u001b[0m\u001b[0;34m(\u001b[0m\u001b[0;34m[\u001b[0m\u001b[0;34m]\u001b[0m\u001b[0;34m)\u001b[0m \u001b[0;31m# TypeError, same error as dct = {[]:1}\u001b[0m\u001b[0;34m\u001b[0m\u001b[0m\n\u001b[0m",
      "\u001b[0;31mTypeError\u001b[0m: unhashable type: 'list'"
     ]
    }
   ],
   "source": [
    "print(\"Hashed int: \",hash(1323)) # works \n",
    "print(\"Hashed str: \",hash(\"abc\")) # works \n",
    "print(\"Hashed tuple: \",hash((1,2,3))) # works\n",
    "hash([]) # TypeError, same error as dct = {[]:1}"
   ]
  },
  {
   "cell_type": "markdown",
   "metadata": {},
   "source": [
    "#### 8. Tuple is to list as (what) is to sets? And as (what) is to dictionaries?\n",
    "\n",
    "|Mutable   |Immutable version                            \n",
    "|----------|:----------------------------------------:|\n",
    "|list      |tuple                                        \n",
    "|set       |frozenset   \n",
    "|dict      |trick question. There are no immutable dicts."
   ]
  },
  {
   "cell_type": "markdown",
   "metadata": {},
   "source": [
    "#### 9. Why do immutable types use less memory than mutables?/ Why do tuples use less memory than lists?"
   ]
  },
  {
   "cell_type": "code",
   "execution_count": 9,
   "metadata": {},
   "outputs": [
    {
     "name": "stdout",
     "output_type": "stream",
     "text": [
      "88\n",
      "72\n"
     ]
    }
   ],
   "source": [
    "import sys\n",
    "l = [1,2,3]\n",
    "t = (1, 2, 3)\n",
    "print(sys.getsizeof(l))\n",
    "print(sys.getsizeof(t))"
   ]
  },
  {
   "cell_type": "markdown",
   "metadata": {},
   "source": [
    "#### 10. Why is there a 16-bit difference in memory above?\n",
    "\n",
    "We can use the `platform` [package](https://docs.python.org/3.6/library/platform.html) to access underlying platform's identifying data. I wrote this with an Azure Notebook which we can see uses a CPython implementation that uses 64-bits."
   ]
  },
  {
   "cell_type": "code",
   "execution_count": 10,
   "metadata": {},
   "outputs": [
    {
     "name": "stdout",
     "output_type": "stream",
     "text": [
      "CPython ('64bit', '') Linux-4.12.0-lcow-00020-g5e61ee16fc39-dirty-x86_64-with-debian-stretch-sid\n"
     ]
    }
   ],
   "source": [
    "import platform\n",
    "print(platform.python_implementation(), platform.architecture(), platform.platform())"
   ]
  },
  {
   "cell_type": "markdown",
   "metadata": {},
   "source": [
    "Lists are variable-sized while tuples are fixed-size.\n",
    "\n",
    "> So tuples can store the elements directly inside the struct, lists on the other hand need a layer of indirection (it stores a pointer to the elements). This layer of indirection is a pointer, on 64bit systems that's 64bit, hence 8bytes. (A byte has 8 bits.)\n",
    "\n",
    "> But there's another thing that lists do: They over-allocate. Otherwise list.append would be an O(n) operation always - to make it O(1), it over-allocates. But now it has to keep track of the allocated size and the filled size (tuples only need to store one size, because allocated and filled size are always identical). That means each list has to store another \"size\" which on 64bit systems is a 64bit integer, again 8 bytes. [source](https://stackoverflow.com/questions/46664007/why-do-tuples-take-less-space-in-memory-than-lists/)\n",
    "\n",
    "So lists need at least a **pointer** with **size** which is 8+8 = 16 bytes more memory than tuples. \n",
    "\n",
    "The difference can be more depending on ways of sequence creation and append/delete history. \n",
    "\n"
   ]
  },
  {
   "cell_type": "markdown",
   "metadata": {},
   "source": [
    "#### 11. What are hashes and what are they used for? \n",
    "\n",
    "A hash function is just a function that maps a set of objects to a set of integers. Hashing can be used for lots of things like cryptography. \n",
    "\n",
    "Hashing/ hash tables are also commonly used for efficient retrieval if we have a collection of elements. We can potentially search through each element of some large amount of data in linear time $O(n)$ or use a hashtable which is constant time $O(1)$ if no collisions. \n",
    "\n",
    "> Hashability makes an object usable as a 1) dictionary key and a 2) set member, because these data structures use the hash value internally.  [source](https://docs.python.org/3.6/glossary.html#term-hashable)\n",
    "\n",
    "In python, if an object is not hashable, it cannot be used as a dictionary key or an element of a set/ frozenset. "
   ]
  },
  {
   "cell_type": "code",
   "execution_count": 11,
   "metadata": {},
   "outputs": [
    {
     "ename": "TypeError",
     "evalue": "unhashable type: 'list'",
     "output_type": "error",
     "traceback": [
      "\u001b[0;31m---------------------------------------------------------------------------\u001b[0m",
      "\u001b[0;31mTypeError\u001b[0m                                 Traceback (most recent call last)",
      "\u001b[0;32m<ipython-input-11-42283ec5351f>\u001b[0m in \u001b[0;36m<module>\u001b[0;34m()\u001b[0m\n\u001b[1;32m      1\u001b[0m \u001b[0;31m# dict(one=\"Value\") => {'one': 'Value'}\u001b[0m\u001b[0;34m\u001b[0m\u001b[0;34m\u001b[0m\u001b[0m\n\u001b[1;32m      2\u001b[0m \u001b[0;31m# Above hashed fine. But you cannot add mutable, unhashable objects as dict keys\u001b[0m\u001b[0;34m\u001b[0m\u001b[0;34m\u001b[0m\u001b[0m\n\u001b[0;32m----> 3\u001b[0;31m \u001b[0md\u001b[0m \u001b[0;34m=\u001b[0m \u001b[0;34m{\u001b[0m\u001b[0;34m[\u001b[0m\u001b[0;36m1\u001b[0m\u001b[0;34m]\u001b[0m\u001b[0;34m:\u001b[0m\u001b[0;34m\"value\"\u001b[0m\u001b[0;34m}\u001b[0m\u001b[0;34m\u001b[0m\u001b[0m\n\u001b[0m",
      "\u001b[0;31mTypeError\u001b[0m: unhashable type: 'list'"
     ]
    }
   ],
   "source": [
    "# dict(one=\"Value\") => {'one': 'Value'} \n",
    "# Above hashed fine. But you cannot add mutable, unhashable objects as dict keys\n",
    "d = {[1]:\"value\"}"
   ]
  },
  {
   "cell_type": "code",
   "execution_count": 12,
   "metadata": {},
   "outputs": [
    {
     "ename": "TypeError",
     "evalue": "unhashable type: 'dict'",
     "output_type": "error",
     "traceback": [
      "\u001b[0;31m---------------------------------------------------------------------------\u001b[0m",
      "\u001b[0;31mTypeError\u001b[0m                                 Traceback (most recent call last)",
      "\u001b[0;32m<ipython-input-12-63b0208c2c29>\u001b[0m in \u001b[0;36m<module>\u001b[0;34m()\u001b[0m\n\u001b[1;32m      1\u001b[0m \u001b[0;31m# set([1,3,3]) => {1,3}\u001b[0m\u001b[0;34m\u001b[0m\u001b[0;34m\u001b[0m\u001b[0m\n\u001b[1;32m      2\u001b[0m \u001b[0;31m# Above hashed fine. But you cannot add mutable, unhashable objects into sets\u001b[0m\u001b[0;34m\u001b[0m\u001b[0;34m\u001b[0m\u001b[0m\n\u001b[0;32m----> 3\u001b[0;31m \u001b[0ms\u001b[0m \u001b[0;34m=\u001b[0m \u001b[0mset\u001b[0m\u001b[0;34m(\u001b[0m\u001b[0;34m[\u001b[0m\u001b[0;36m1\u001b[0m\u001b[0;34m,\u001b[0m\u001b[0;36m3\u001b[0m\u001b[0;34m,\u001b[0m\u001b[0;36m3\u001b[0m\u001b[0;34m,\u001b[0m\u001b[0;34m{\u001b[0m\u001b[0;34m}\u001b[0m\u001b[0;34m]\u001b[0m\u001b[0;34m)\u001b[0m\u001b[0;34m\u001b[0m\u001b[0m\n\u001b[0m",
      "\u001b[0;31mTypeError\u001b[0m: unhashable type: 'dict'"
     ]
    }
   ],
   "source": [
    "# set([1,3,3]) => {1,3} \n",
    "# Above hashed fine. But you cannot add mutable, unhashable objects into sets\n",
    "s = set([1,3,3,{}])"
   ]
  },
  {
   "cell_type": "markdown",
   "metadata": {},
   "source": [
    "#### 12. Can you hash a tuple that contains a list?\n",
    "\n",
    "No. Tuples are immutable and hence hashable, but if you put an unhashable list into a tuple, it can no longer be hashed because it contains an unhashable object. \n",
    "\n",
    "Analogy: Placing non-compostable garbage into a compostable garbage bag doesn't make the bag non-compostable, but you can no longer compost it. [source](https://stackoverflow.com/questions/32868211/why-does-the-python-docs-state-that-all-immutable-built-in-objects-are-hashable)"
   ]
  },
  {
   "cell_type": "code",
   "execution_count": 13,
   "metadata": {},
   "outputs": [
    {
     "ename": "TypeError",
     "evalue": "unhashable type: 'list'",
     "output_type": "error",
     "traceback": [
      "\u001b[0;31m---------------------------------------------------------------------------\u001b[0m",
      "\u001b[0;31mTypeError\u001b[0m                                 Traceback (most recent call last)",
      "\u001b[0;32m<ipython-input-13-e261f4967034>\u001b[0m in \u001b[0;36m<module>\u001b[0;34m()\u001b[0m\n\u001b[0;32m----> 1\u001b[0;31m \u001b[0mhash\u001b[0m\u001b[0;34m(\u001b[0m\u001b[0;34m(\u001b[0m\u001b[0;36m1\u001b[0m\u001b[0;34m,\u001b[0m \u001b[0;36m2\u001b[0m\u001b[0;34m,\u001b[0m \u001b[0;34m[\u001b[0m\u001b[0;36m3\u001b[0m\u001b[0;34m,\u001b[0m \u001b[0;34m'4'\u001b[0m\u001b[0;34m]\u001b[0m\u001b[0;34m)\u001b[0m\u001b[0;34m)\u001b[0m\u001b[0;34m\u001b[0m\u001b[0m\n\u001b[0m",
      "\u001b[0;31mTypeError\u001b[0m: unhashable type: 'list'"
     ]
    }
   ],
   "source": [
    "hash((1, 2, [3, '4'])) "
   ]
  },
  {
   "cell_type": "markdown",
   "metadata": {},
   "source": [
    "#### 13. Can you use list/ set /dict as dictionary keys? \n",
    "\n",
    "No, since they are all mutable and hence not hashable.\n",
    "\n",
    "General rule for built-in objects:\n",
    "- Mutable = no hash value = cannot be used as either a dictionary key or as an element of a set/frozensets. [source](https://docs.python.org/3.6/library/stdtypes.html#immutable-sequence-types)\n",
    "\n",
    "You can however, use their immutable versions, as dict keys. Tuples and frozensets are immutable, hence hashable and can be used as dictionary keys. Again, provided all their elements are hashable. There are no immutable dictionaries."
   ]
  },
  {
   "cell_type": "code",
   "execution_count": 14,
   "metadata": {},
   "outputs": [
    {
     "data": {
      "text/plain": [
       "{frozenset({(), 0, '2'}): 'value'}"
      ]
     },
     "execution_count": 14,
     "metadata": {},
     "output_type": "execute_result"
    }
   ],
   "source": [
    "d = {frozenset([0, (), '2']):\"value\"}\n",
    "d"
   ]
  },
  {
   "cell_type": "markdown",
   "metadata": {},
   "source": [
    "#### 14. What's the difference between a == b and a is b?\n",
    "\n",
    "Former compares by __**value**__, latter compares by __**object identity**__.\n",
    "\n",
    "`a == b` implies a.\\__eq\\__(b) is True. The implementation of \\__eq\\__ can be anything. Most sensible implementations check the states of the object matched.\n",
    "\n",
    "`a is b` checks `id(a)` against `id(b)` to see if they are the same object."
   ]
  },
  {
   "cell_type": "code",
   "execution_count": 15,
   "metadata": {},
   "outputs": [
    {
     "name": "stdout",
     "output_type": "stream",
     "text": [
      "True\n",
      "False\n"
     ]
    }
   ],
   "source": [
    "print(1 == 1.0) # True. Implies a.__eq__(b)\n",
    "print(1 is 1.0) # False. Compares id(), i.e. id(a) == id(b)"
   ]
  },
  {
   "cell_type": "markdown",
   "metadata": {},
   "source": [
    "#### 15. What's the difference between hash() and id()?\n",
    "\n",
    "All objects have **identity**. The id() returns a number corresponding to an object's identity (in cpython, it returns the memory address of the object, but other interpreters may return something else). If two objects (that exist at the same time) have the same identity, they're actually two references to the same object. `a is b` checks if `id(a) == id(b)`.\n",
    "\n",
    "All objects have **values**. Some objects do not have a meaningful value other than their identity (so value an identity may be synonymous, in some cases). Value can be defined as what the == operator compares, so any time `a == b`, you can say that a and b have the same value. Container objects (like lists) have a value that is defined by their contents, while some other kinds of objects will have values based on their attributes. Objects of different types can sometimes have the same values, as with numbers: 0 (int) == 0.0 (float) == 0j (complex) == False (bool). If a class doesn't define an \\__eq\\__ method (to implement the == operator), it will inherit the default version from object and its instances will be compared solely by their identities. \n",
    "\n",
    "Some objects have **hash values**, which means they can be used as dictionary keys (and stored in sets/ frozensets). The function hash(a) returns the object a's hash value, a number based on the object's value. The hash of an object must remain the same for the lifetime of the object, so it only makes sense for an object to be hashable if its value is immutable (either because it's based on the object's identity, or because it's based on contents of the object that are themselves immutable). [source](https://stackoverflow.com/questions/34402522/difference-between-hash-and-id)"
   ]
  },
  {
   "cell_type": "markdown",
   "metadata": {},
   "source": [
    "#### 16. Can objects of different types have the same hash value?/ Why is it unwise to use numeric types as dictionary keys?\n",
    "\n",
    "Yes.\n",
    "\n",
    "> Numeric values that compare equal have the same hash value (even if they are of different types, as is the case for 1 and 1.0). [source](https://docs.python.org/3.6/library/functions.html#hash)\n",
    "\n",
    "`a == b` implies `hash(a) == hash(b)` (note that the reverse might not hold in the case of a hash collision)\n",
    "\n",
    "Here 1 is of type int and 1.0 is of type float."
   ]
  },
  {
   "cell_type": "code",
   "execution_count": 16,
   "metadata": {},
   "outputs": [
    {
     "data": {
      "text/plain": [
       "True"
      ]
     },
     "execution_count": 16,
     "metadata": {},
     "output_type": "execute_result"
    }
   ],
   "source": [
    "hash(1).__eq__(hash(1.0))"
   ]
  },
  {
   "cell_type": "markdown",
   "metadata": {},
   "source": [
    "So it may be unwise to use numeric types as dictionary keys!\n",
    "\n",
    "> Numeric types used for keys obey the normal rules for numeric comparison: if two numbers compare equal (such as 1 and 1.0) then they can be used interchangeably to index the same dictionary entry. (Note however, that since computers store floating-point numbers as approximations it is usually unwise to use them as dictionary keys.) [source](https://docs.python.org/3/library/stdtypes.html#mapping-types-dict)"
   ]
  },
  {
   "cell_type": "markdown",
   "metadata": {},
   "source": [
    "#### 17. If only immutable objects can be hashed (and vice versa i.e. mutable objects cannot be hashed), are there hashable, mutable objects in python?\n",
    "\n",
    "For built-in types, it's fine to say if it's mutable, it's not hashable (i.e. can't pass it through a function to get an int that uniquely identifies this object throughout its life), and if it's immutable, it's hashable.\n",
    "\n",
    "BUT it's definitely possible to have mutable, hashable objects. Instances of user-defined classes are by default mutable and hashable."
   ]
  },
  {
   "cell_type": "markdown",
   "metadata": {},
   "source": [
    "#### 18. If we really want to use user-defined object as dictionary keys or as elements of sets/frozensets, what should we do?\n",
    "\n",
    "Two things: define \\__eq\\__() and \\__hash\\__().\n",
    "\n",
    "Let's look at the definition of hashable objects.\n",
    "\n",
    "> An object is hashable if it has a hash value which never changes during its lifetime (it needs a \\__hash\\__() method), and can be compared to other objects (it needs an \\__eq\\__() method). Hashable objects which compare equal must have the same hash value. [source](https://docs.python.org/3.6/glossary.html#term-hashable)"
   ]
  },
  {
   "cell_type": "code",
   "execution_count": 17,
   "metadata": {},
   "outputs": [
    {
     "data": {
      "text/plain": [
       "{<__main__.Bad at 0x7f218b990978>: 1}"
      ]
     },
     "execution_count": 17,
     "metadata": {},
     "output_type": "execute_result"
    }
   ],
   "source": [
    "class Bad(object):\n",
    "    def __init__(self):\n",
    "        pass\n",
    "a = Bad()\n",
    "d = {a:1}\n",
    "d"
   ]
  },
  {
   "cell_type": "markdown",
   "metadata": {},
   "source": [
    "Since there were no runtime errors, we can basically deduce there's a default \\__hash\\__ method for user-defined classes. \n",
    "\n",
    "But I hear you say... instances of user-defined classes are by default mutable! Doesn't this mean they shouldn't be hashed? So why is there a default hash() method for user-defined objects? How is Python coming up with this magical number that persists during the lifetimes for our user-defined objects?\n",
    "\n",
    "The hashing function actually used to be based on `id()` but they moved away [because of collisions](https://bugs.python.org/issue5186). Now it's **derived from `id()`**. You can look at the [actual implementation](https://github.com/python/cpython/blob/1fe0fd9feb6a4472a9a1b186502eb9c0b2366326/Python/pyhash.c#L131) in cpython.\n",
    "\n",
    "> x.\\__hash\\__() returns an appropriate value such that x == y implies both that x is y and hash(x) == hash(y).[source](https://docs.python.org/3.6/reference/datamodel.html#object.__hash__)"
   ]
  },
  {
   "cell_type": "code",
   "execution_count": 18,
   "metadata": {},
   "outputs": [
    {
     "data": {
      "text/plain": [
       "-9223363300476481385"
      ]
     },
     "execution_count": 18,
     "metadata": {},
     "output_type": "execute_result"
    }
   ],
   "source": [
    "a.__hash__()"
   ]
  },
  {
   "cell_type": "markdown",
   "metadata": {},
   "source": [
    "Okay, so you can hash a user-defined object out of the box. But you cannot compare it to other objects."
   ]
  },
  {
   "cell_type": "code",
   "execution_count": 19,
   "metadata": {},
   "outputs": [
    {
     "data": {
      "text/plain": [
       "NotImplemented"
      ]
     },
     "execution_count": 19,
     "metadata": {},
     "output_type": "execute_result"
    }
   ],
   "source": [
    "a = Bad()\n",
    "b = Bad()\n",
    "a.__eq__(b)"
   ]
  },
  {
   "cell_type": "markdown",
   "metadata": {},
   "source": [
    "This is no good as you can't complete the key lookup without an equality check. This brings us back to the answer:\n",
    "\n",
    "**If we want to use instances of user-defined classes as dictionary keys/ elements of sets or frozensets, we shoud define both \\__eq\\__() and \\__hash\\__() methods. **\n",
    "\n",
    "In fact, in Python 3, if you override \\__eq\\__, it automatically sets \\__hash\\__ to None, so instances of the class are unhashable. [source](https://docs.python.org/3.6/reference/datamodel.html#object.__hash__)\n",
    "\n",
    "Whereas Python 2 lets you happily shoot off your own foot... [source](https://hynek.me/articles/hashes-and-equality/). "
   ]
  },
  {
   "cell_type": "code",
   "execution_count": 20,
   "metadata": {},
   "outputs": [
    {
     "ename": "TypeError",
     "evalue": "unhashable type: 'HashableObject'",
     "output_type": "error",
     "traceback": [
      "\u001b[0;31m---------------------------------------------------------------------------\u001b[0m",
      "\u001b[0;31mTypeError\u001b[0m                                 Traceback (most recent call last)",
      "\u001b[0;32m<ipython-input-20-0d06a212521b>\u001b[0m in \u001b[0;36m<module>\u001b[0;34m()\u001b[0m\n\u001b[1;32m     12\u001b[0m \u001b[0;34m\u001b[0m\u001b[0m\n\u001b[1;32m     13\u001b[0m \u001b[0ma\u001b[0m \u001b[0;34m=\u001b[0m \u001b[0mHashableObject\u001b[0m\u001b[0;34m(\u001b[0m\u001b[0;34m\"name\"\u001b[0m\u001b[0;34m,\u001b[0m \u001b[0;34m\"color\"\u001b[0m\u001b[0;34m)\u001b[0m\u001b[0;34m\u001b[0m\u001b[0m\n\u001b[0;32m---> 14\u001b[0;31m \u001b[0md\u001b[0m \u001b[0;34m=\u001b[0m \u001b[0;34m{\u001b[0m\u001b[0ma\u001b[0m\u001b[0;34m:\u001b[0m\u001b[0;36m1\u001b[0m\u001b[0;34m}\u001b[0m\u001b[0;34m\u001b[0m\u001b[0m\n\u001b[0m\u001b[1;32m     15\u001b[0m \u001b[0md\u001b[0m\u001b[0;34m\u001b[0m\u001b[0m\n",
      "\u001b[0;31mTypeError\u001b[0m: unhashable type: 'HashableObject'"
     ]
    }
   ],
   "source": [
    "class HashableObject(object):\n",
    "    def __init__(self, name, color):\n",
    "        self.name = name\n",
    "        self.color = color\n",
    "\n",
    "    def __eq__(self, other):\n",
    "        \"\"\"Override the default Equals behavior\"\"\"\n",
    "        return (self.name, self.color) == (other.name, other.color)\n",
    "    \n",
    "#     def __hash__(self):\n",
    "#         return hash((self.name, self.color))\n",
    "    \n",
    "a = HashableObject(\"name\", \"color\")\n",
    "d = {a:1}\n",
    "d"
   ]
  },
  {
   "cell_type": "markdown",
   "metadata": {},
   "source": [
    "If you write an \\__eq\\__ method in a custom class, Python will disable this default hash implementation, because your \\__eq\\__ function will define a new meaning of value for its instances. You'll need to write a \\__hash\\__ method as well, if you want your class to still be hashable.\n",
    "\n",
    "Defining a \\__hash\\__ method as well, i.e. uncommenting the above lines, makes it valid. Now instances of our user-defined class are both mutable and hashable.\n",
    "\n",
    "BUT that really wasn't a great hashing function, more below.\n",
    "\n",
    "#### 19. Why do we have to implement both \\__hash\\__ and \\__eq\\__ to make an object hashable?\n",
    "\n",
    "Key lookups are always followed by an equality check.\n",
    "\n",
    "> If the only thing dictionaries could do with keys was an equality check (is the user-supplied key the same as the key for this entry), such lookups would be extremely inefficient; for example, you would have to do an equality check on every key in the dictionary to find out that you didn't have an entry for a particular key. Hash identities are the answer. Instead of checking for equality with every entry's key, dictionaries only have to check the keys with the same hash identity. If things work out (ie, there are only a few keys in the dictionary with the same hash identity), this will be a lot fewer entries and thus the lookup will run much faster.[source](https://utcc.utoronto.ca/~cks/space/blog/python/UnderstandingHashing)\n",
    "\n",
    "Remember though that overriding a \\__hash\\__ function (https://docs.python.org/3.6/reference/datamodel.html#object.__hash__) requires a bit of thought. \n",
    "\n",
    "Here's a [blog](https://www.asmeurer.com/blog/posts/what-happens-when-you-mess-with-hashing-in-python/) with some examples of messing with hashing.\n",
    "\n",
    "Remember that mutability and hashing are different but related concepts. The two ideas are related because objects which are used as hash keys must typically be immutable so their hash value doesn't change. If it was allowed to change then the location of that object in a data structure such as a hashtable would change and then the whole purpose of hashing for efficiency is defeated. [source](https://stackoverflow.com/questions/2671376/hashable-immutable)\n",
    "\n",
    "#### 20. Can we only base our hash on immutable values? / Can we hash on non-unique values?\n",
    "\n",
    "Yes, we can and should only hash on immutable values. If an attribute changes over its lifetime, then it justifiably doesn't uniquely identify an object. \n",
    "\n",
    "But, technically, we *can* hash on non-unique values. \n",
    "\n",
    "A general rule when implementing \\__hash\\__ is that you should never base your hash on mutable values. In the above e.g., I hashed on a (immutable) tuple of name and color, essentially treating the two as a composite key. But two objects with the same name and colors would give identical hashes! So it's not unique, but key lookup still works because, while there's a hash collision (2 objects are referred to with the same hashed int), python then does an equality check. The lookup becomes less efficient because of the collision requiring extra work.\n",
    "\n",
    "Taken to the hypothetical extreme: a hashing function that always returns the same value for all elements basically regresses the complexity of the hash table from $O(1)$ back to $O(n)$. [source](https://hynek.me/articles/hashes-and-equality/)\n",
    "\n",
    "So, if you implement \\__hash\\__() that invokes hash() on a mutable object, it would throw `TypeError: unhashable type:...`. But you can indeed hash non-unique immutables, it'll just increase your chances of collision and make your key lookup less efficient.\n",
    "\n",
    "#### 21. If we inherit from a hashable class but don't want the child to be hashable, what can we do?\n",
    "\n",
    "If you inherit from a hashable class but don't want to be hashable yourself, you can set \\__hash\\__ = None in the class body.\n",
    "\n",
    "#### 22. If we overrride \\__eq\\__, should we also override \\__ne\\__?\n",
    "\n",
    "Yes. In Python 3, `!=` returns the opposite of `==`, unless `==` returns `NotImplemented`.\n",
    "\n",
    "But the best practice is always to define \\__ne\\__() if \\__eq\\__() was defined.\n",
    "\n",
    "E.g. If you inherit from a class that already has defined \\__ne\\__, overriding just \\__eq\\__ is not enough and you'll also have to override the \\__ne\\__ method. [source](https://stackoverflow.com/questions/24455406/why-do-the-python-docs-say-i-need-to-define-ne-when-i-define-eq)"
   ]
  },
  {
   "cell_type": "markdown",
   "metadata": {},
   "source": [
    "#### 23. When we use a == b, whose \\__eq\\__ are we using? \n",
    "\n",
    "To the left of `==` operand, in this case a's \\__eq\\__ is used."
   ]
  },
  {
   "cell_type": "code",
   "execution_count": 21,
   "metadata": {},
   "outputs": [
    {
     "name": "stdout",
     "output_type": "stream",
     "text": [
      "Using Box's __eq__:  False\n",
      "Using Circle's __eq__:  True\n"
     ]
    }
   ],
   "source": [
    "class Box(object):\n",
    " \n",
    "    def __init__(self, color, size):\n",
    "        self.color = color\n",
    "        self.size = size\n",
    " \n",
    "    def __eq__(self, other):\n",
    "        \"\"\"Override the default Equals behavior\"\"\"\n",
    "        if isinstance(other, self.__class__):\n",
    "            return self.color == other.color and self.size == other.size\n",
    "        return False\n",
    " \n",
    "    def __ne__(self, other):\n",
    "        \"\"\"Override the default Unequal behavior\"\"\"\n",
    "        return self.color != other.color or self.size != other.size\n",
    "\n",
    "class Circle(object):\n",
    "    def __init__(self, color, size):\n",
    "        self.color = color\n",
    "        self.size = size\n",
    " \n",
    "    def __eq__(self, other):\n",
    "        \"\"\"Override the default Equals behavior\"\"\"\n",
    "#         if isinstance(other, self.__class__):\n",
    "        return self.color == other.color and self.size == other.size\n",
    "#         return False\n",
    " \n",
    "    def __ne__(self, other):\n",
    "        \"\"\"Override the default Unequal behavior\"\"\"\n",
    "        return self.color != other.color or self.size != other.size\n",
    "\n",
    "a = Box(\"blue\", 5)\n",
    "b = Circle(\"blue\", 5)\n",
    "print(\"Using Box's __eq__: \",a==b)\n",
    "print(\"Using Circle's __eq__: \",b==a)"
   ]
  },
  {
   "cell_type": "markdown",
   "metadata": {},
   "source": [
    "#### 24. Does python use reference types or value types or both?\n",
    "\n",
    "Just [reference types](https://en.wikipedia.org/wiki/Reference_type). \n",
    "\n",
    "All variable names in Python are said to be references to the values. [source](https://stackoverflow.com/questions/6158907/what-does-python-treat-as-reference-types)\n",
    "\n",
    "When people ask this question, they usually want to know if the value of a variable will/ will not be copied when assigned to a new variable. In python, this depends primarily on **1) mutability of the object**, and if object being changed is mutable, **2) how it's mutated**."
   ]
  },
  {
   "cell_type": "code",
   "execution_count": 22,
   "metadata": {},
   "outputs": [
    {
     "name": "stdout",
     "output_type": "stream",
     "text": [
      "94585772853568\n",
      "94585772853568\n",
      "When we changed the value of x, an immutable int, a new object is created with id:  94585772850464\n",
      "Whereas y still references the same object: 94585772853568\n"
     ]
    },
    {
     "data": {
      "text/plain": [
       "100"
      ]
     },
     "execution_count": 22,
     "metadata": {},
     "output_type": "execute_result"
    }
   ],
   "source": [
    "x = 100\n",
    "print(id(x))\n",
    "y = x\n",
    "print(id(y))\n",
    "x = 3\n",
    "print(\"When we changed the value of x, an immutable int, a new object is created with id: \",id(x))\n",
    "print(\"Whereas y still references the same object:\",id(y))\n",
    "y"
   ]
  },
  {
   "cell_type": "code",
   "execution_count": 23,
   "metadata": {},
   "outputs": [
    {
     "name": "stdout",
     "output_type": "stream",
     "text": [
      "139782052384904\n",
      "139782052384904\n",
      "When we changed the value of x, a mutable list, the same object was modified:  139782052384904\n",
      "And since y still references this same object: 139782052384904\n"
     ]
    },
    {
     "data": {
      "text/plain": [
       "[1, 2, 3, 4]"
      ]
     },
     "execution_count": 23,
     "metadata": {},
     "output_type": "execute_result"
    }
   ],
   "source": [
    "x = [1,2,3]\n",
    "print(id(x))\n",
    "y = x\n",
    "print(id(y))\n",
    "x.append(4) \n",
    "# Similarly there'll be no new object creation if we use x.extend([4]) which is the same as x += [4] \n",
    "# BUT there will be new object creation if we use x = x + [4] \n",
    "print(\"When we changed the value of x, a mutable list, the same object was modified: \",id(x))\n",
    "print(\"And since y still references this same object:\",id(y))\n",
    "y"
   ]
  },
  {
   "cell_type": "markdown",
   "metadata": {},
   "source": [
    "The **how it's mutated** bit is relevant as `+` operator calls `__add__` (and creates a new object) whereas the `+=` operator is the [same as `extend()`](https://docs.python.org/3.6/library/stdtypes.html#mutable-sequence-types) and modifies the same object.\n",
    "\n",
    "Generally, operators that modify the arguments in place are more memory-efficient as you don't keep putting new objects into the heap (and thus saving the garbage collector work)."
   ]
  },
  {
   "cell_type": "markdown",
   "metadata": {},
   "source": [
    "#### 25. What's aliasing?\n",
    "\n",
    "2 variables can refer to the same object through a process called \"aliasing\": assigning one variable the value of the other variable. \n",
    "\n",
    "In other words, one variable now serves as an alias for the other, since both of them now refer to the same object.\n",
    "\n",
    "The lines `x=y` in the above examples achieve this. "
   ]
  },
  {
   "cell_type": "markdown",
   "metadata": {},
   "source": [
    "#### 26. Is a new object always created each time we have a variable that makes reference to an immutable object? Are there exceptions?\n",
    "\n",
    "Generally, new objects are almost always created when we have a variable that references an immutable object/ instantiate an object of immutable type.\n",
    "\n",
    "But there are a few [exceptions](https://medium.com/@tyastropheus/tricky-python-i-memory-management-for-mutable-immutable-objects-21507d1e5b95). \n",
    "- **String interning**: Some strings are \"interned\"-- this means two string variables actually refer to the same object, despite being immutable! This is actually done at compile time and follow some fairly unintuitive rules! [source](http://guilload.com/python-string-interning/)"
   ]
  },
  {
   "cell_type": "code",
   "execution_count": 24,
   "metadata": {},
   "outputs": [
    {
     "name": "stdout",
     "output_type": "stream",
     "text": [
      "True\n"
     ]
    }
   ],
   "source": [
    "a = \"interned\"\n",
    "b = \"interned\"\n",
    "print(a is b)"
   ]
  },
  {
   "cell_type": "code",
   "execution_count": 25,
   "metadata": {},
   "outputs": [
    {
     "name": "stdout",
     "output_type": "stream",
     "text": [
      "False\n"
     ]
    }
   ],
   "source": [
    "a=\"nah \"\n",
    "b=\"nah \"\n",
    "print(a is b)"
   ]
  },
  {
   "cell_type": "markdown",
   "metadata": {},
   "source": [
    "- **Integer caching**: The Python implementation front loads an array of integers between -5 to 256. Hence, variables referring to an integer within the range would be pointing to the same object that already exists in memory (before the name reference occurs):"
   ]
  },
  {
   "cell_type": "code",
   "execution_count": 26,
   "metadata": {},
   "outputs": [
    {
     "data": {
      "text/plain": [
       "True"
      ]
     },
     "execution_count": 26,
     "metadata": {},
     "output_type": "execute_result"
    }
   ],
   "source": [
    "a = -5\n",
    "b = -5\n",
    "a is b"
   ]
  },
  {
   "cell_type": "code",
   "execution_count": 27,
   "metadata": {},
   "outputs": [
    {
     "data": {
      "text/plain": [
       "False"
      ]
     },
     "execution_count": 27,
     "metadata": {},
     "output_type": "execute_result"
    }
   ],
   "source": [
    "a = -6\n",
    "b = -6\n",
    "a is b"
   ]
  },
  {
   "cell_type": "markdown",
   "metadata": {},
   "source": [
    "- **Empty immutables**: If it's empty, no new object is created. Defined empty immutables of the same type share the same object id()."
   ]
  },
  {
   "cell_type": "code",
   "execution_count": 28,
   "metadata": {},
   "outputs": [
    {
     "name": "stdout",
     "output_type": "stream",
     "text": [
      "True\n",
      "True\n",
      "False\n"
     ]
    }
   ],
   "source": [
    "a = frozenset()\n",
    "b = frozenset()\n",
    "c = tuple()\n",
    "d = tuple()\n",
    "print(a is b)\n",
    "print(c is d)\n",
    "print(b is c)"
   ]
  },
  {
   "cell_type": "markdown",
   "metadata": {},
   "source": [
    "#### 27. How does python manage memory?\n",
    "\n",
    "Python uses two strategies for memory allocation: **1) reference counting** and **2) generational garbage collection**. [source](https://www.digi.com/resources/documentation/digidocs/90001537/references/r_python_garbage_coll.htm)\n",
    "\n",
    "Python keeps an internal counter on how many references an object has. Once the counter goes to zero — meaning that no reference is made to the object — the object is deallocated from memory, thus freeing up the memory.\n",
    "\n",
    "Standard CPython's garbage collector has two components -- both the [reference counting](https://en.wikipedia.org/wiki/Reference_counting) collector and the generational garbage collector, known as [gc module](https://docs.python.org/3.6/library/gc.html).\n",
    "\n",
    "#### 28. What are cyclic references and why do they mean garbage collection is needed in addition to reference counting?\n",
    "\n",
    "Prior to Python 2.0, only reference counting was used for memory management. \n",
    "\n",
    "It's a nice and simple method for automatic memory management, but does have drawbacks. You need memory overhead for storing ref counters (but it's quite small) and you want ref counting to be synchronized between CPU cores for multithreaded apps, i.e. have atomicity (but in CPython there's [mutex](https://stackoverflow.com/questions/34524/what-is-a-mutex) [GIL](https://wiki.python.org/moin/GlobalInterpreterLock) which ensures only one thread runs at a single time so that concern's not applicable). [source](https://greek0.net/blog/2015/05/23/python_atomic_refcounting_slowdown/)\n",
    "\n",
    "While generally efficient, the main drawback is that **reference counting doesn't cater for reference cycles**. This is when container objects like lists reference themselves, so the counter never hits zero."
   ]
  },
  {
   "cell_type": "code",
   "execution_count": 29,
   "metadata": {},
   "outputs": [],
   "source": [
    "def make_cycle():\n",
    "    l = []\n",
    "    l.append(l)\n",
    "\n",
    "make_cycle()"
   ]
  },
  {
   "cell_type": "markdown",
   "metadata": {},
   "source": [
    "Because make_cycle() creates an object l which refers to itself, the object l will not automatically be freed when the function returns. It is \"unreachable\". The memory that l is using will be held onto until the Python garbage collector is invoked.\n",
    "\n",
    "So we need (additional, \"generational\") garbage collection to free up unreachable objects.\n",
    "\n",
    "#### 29. How many generations of garbage collection are there in python gc?\n",
    "\n",
    "Three.\n",
    "\n",
    "There are 3 generations that objects get placed into. New objects are placed in the youngest generation (generation 0). \n",
    "\n",
    "Objects that have survived GC get moved to the next generation ( 0 &rarr; 1 &rarr; 2) \n",
    "\n",
    "Since generation 2 is the oldest generation, objects in that generation remain there after a collection until the process exits. [docs](https://docs.python.org/3/library/gc.html#gc.set_threshold)\n",
    "\n",
    "\n",
    "#### 30. Explain automatic and manual gc? \n",
    "\n",
    "Garbage collection can be done **automatically**, set at a threshold:"
   ]
  },
  {
   "cell_type": "code",
   "execution_count": 30,
   "metadata": {},
   "outputs": [
    {
     "name": "stdout",
     "output_type": "stream",
     "text": [
      "True\n",
      "Garbage collection thresholds: (700, 10, 10)\n"
     ]
    }
   ],
   "source": [
    "import gc\n",
    "print(gc.isenabled())\n",
    "print(\"Garbage collection thresholds: {}\".format(gc.get_threshold()))"
   ]
  },
  {
   "cell_type": "markdown",
   "metadata": {},
   "source": [
    "**700**: The first number means when the number of allocations minus the number of deallocations is greater than 700 the automatic garbage collector will run.\n",
    "\n",
    "**10**: The 2nd number is the number of collections of generation 0 (10) before collecting generation 1.\n",
    "\n",
    "**10**: The 3rd number is the number of collections of generation 1 (10) before collecting generation 2.\n",
    "\n",
    "Garbage collection can also be invoked **manually**:"
   ]
  },
  {
   "cell_type": "code",
   "execution_count": 31,
   "metadata": {},
   "outputs": [
    {
     "name": "stdout",
     "output_type": "stream",
     "text": [
      "Collected 1 unreachable object\n"
     ]
    }
   ],
   "source": [
    "def make_cycle():\n",
    "    l = []\n",
    "    l.append(l)\n",
    "\n",
    "gc.collect()\n",
    "make_cycle()\n",
    "print(\"Collected {} unreachable object\".format(gc.collect()))"
   ]
  },
  {
   "cell_type": "markdown",
   "metadata": {},
   "source": [
    "That object was the cyclic reference which evaded the reference counting collector.\n",
    "\n",
    "#### 31. What are good garbage collection practices?\n",
    "\n",
    "Good garbage collection depends on the application. The garbage collector should be invoked as often as necessary to collect cyclic references without affecting vital application performance. Garbage collection should be a part of your Python application design process.[source](https://www.digi.com/resources/documentation/digidocs/90001537/references/r_python_garbage_coll.htm)\n",
    "- Not too frequently as it takes considerable time to evaluate every memory object in a large system.\n",
    "- Piggy-back collection after daily chores e.g. If there's a daily task to evaluate tons of data points, generate a report and send it off, it's a good candidate to run gc.collect() afterwards.\n",
    "- Don't do gc.collect() during time-sensitive sections of code. Do it before or after to not disrupt timing.\n",
    "\n",
    "A set object is an unordered collection of distinct hashable objects. Common uses include membership testing, removing duplicates from a sequence, and computing mathematical operations such as intersection, union, difference, and symmetric difference."
   ]
  },
  {
   "cell_type": "markdown",
   "metadata": {},
   "source": [
    "#### 32. Which one is quicker/ uses less memory - list()/ dict()/ set() constructors or list/ dict/ set literals [], {}, {}? \n",
    "\n",
    "- `list()`/ `dict()`/ `set()` are basic **constructors** that take one iterable object and return it in their respective containers.(Note if you pass a dict to `list()` or `set()` it'd return just the keys. And `dict()` is pickier in that it takes sequences of key-value pairs only and keys must be hashable objects)\n",
    "- There's also the **literal** syntax: e.g. `lst = [\"a\", \"b\"]`, `dct = {\"a\":1} `, `set = {1,2,3}` that does exactly the same thing. \n",
    "\n",
    "Literal syntax does the same thing as constructors but is generally quicker. "
   ]
  },
  {
   "cell_type": "code",
   "execution_count": 32,
   "metadata": {},
   "outputs": [
    {
     "name": "stdout",
     "output_type": "stream",
     "text": [
      "True\n",
      "True\n",
      "True\n"
     ]
    }
   ],
   "source": [
    "print(list([\"a\",\"b\"]) == [\"a\", \"b\"])\n",
    "print(dict(a=1) == {\"a\":1})\n",
    "print(set([1,2,3]) == {1,2,3})"
   ]
  },
  {
   "cell_type": "code",
   "execution_count": 33,
   "metadata": {},
   "outputs": [
    {
     "name": "stdout",
     "output_type": "stream",
     "text": [
      "1.129392500006361\n",
      "0.5897452999997768\n"
     ]
    }
   ],
   "source": [
    "import timeit\n",
    "\n",
    "def f():\n",
    "    return set([1, 2, 3])\n",
    "\n",
    "def g():\n",
    "    return {1, 2, 3}\n",
    "\n",
    "print(min(timeit.repeat(f)))\n",
    "print(min(timeit.repeat(g)))"
   ]
  },
  {
   "cell_type": "markdown",
   "metadata": {},
   "source": [
    "Instantiating the list with list literal syntax is twice as fast (simulation used default 1 mil executions, 3 repeats with [`timeit` package](https://docs.python.org/3.6/library/timeit.html#timeit.repeat)). It's faster because it doesn't need to lookup `list()` built-in function. \n",
    "\n",
    "Here's a [blog](https://renzo.lucioni.xyz/pythons-set-literals/) that does a similar test for set literals."
   ]
  },
  {
   "cell_type": "markdown",
   "metadata": {},
   "source": [
    "#### 33. Is it more efficient to use a tuple or list or set when using 'in' in an 'if' clause?\n",
    "\n",
    "What's the difference between `if number in (1, 2):` or `if number in [1, 2]:` or `if number in {1, 2}:`?\n",
    "\n",
    "CPython interpretor actually replaces [] with (). Because loading the tuple from a constant is one operation, but the list would be 3 operations; load the two integer contents and build a new list object. Since the list literal isn't otherwise reachable, it is substituted for a tuple.\n",
    "\n",
    "We can look at the disassembled bytecode to understand a CPython-specific optimization called [\"peephole\" optimisation](https://sopython.com/wiki/Peephole_optimisations_for_tuple%2C_list%2C_set)."
   ]
  },
  {
   "cell_type": "code",
   "execution_count": 34,
   "metadata": {},
   "outputs": [
    {
     "name": "stdout",
     "output_type": "stream",
     "text": [
      "  1           0 LOAD_NAME                0 (number)\n",
      "              2 LOAD_NAME                1 (list)\n",
      "              4 LOAD_CONST               0 (1)\n",
      "              6 LOAD_CONST               1 (2)\n",
      "              8 BUILD_LIST               2\n",
      "             10 CALL_FUNCTION            1\n",
      "             12 COMPARE_OP               6 (in)\n",
      "             14 RETURN_VALUE\n"
     ]
    }
   ],
   "source": [
    "import dis\n",
    "dis.dis(compile('number in list([1, 2])', '<stdin>', 'eval'))"
   ]
  },
  {
   "cell_type": "code",
   "execution_count": 35,
   "metadata": {},
   "outputs": [
    {
     "name": "stdout",
     "output_type": "stream",
     "text": [
      "  1           0 LOAD_NAME                0 (number)\n",
      "              2 LOAD_CONST               2 ((1, 2))\n",
      "              4 COMPARE_OP               6 (in)\n",
      "              6 RETURN_VALUE\n"
     ]
    }
   ],
   "source": [
    "dis.dis(compile('number in [1, 2]', '<stdin>', 'eval'))  "
   ]
  },
  {
   "cell_type": "markdown",
   "metadata": {},
   "source": [
    "In fact, python 3 onwards optimizes set literals by storing a frozenset() constant with the bytecode. This is more efficient as membership tests against sets are O(1) constant operations. [explanation](https://stackoverflow.com/questions/22359664/frozenset-example-of-when-one-might-use-them)"
   ]
  },
  {
   "cell_type": "code",
   "execution_count": 36,
   "metadata": {},
   "outputs": [
    {
     "name": "stdout",
     "output_type": "stream",
     "text": [
      "  1           0 LOAD_NAME                0 (number)\n",
      "              2 LOAD_CONST               2 (frozenset({1, 2}))\n",
      "              4 COMPARE_OP               6 (in)\n",
      "              6 RETURN_VALUE\n"
     ]
    }
   ],
   "source": [
    "dis.dis(compile('number in {1, 2}', '<stdin>', 'eval'))  "
   ]
  },
  {
   "cell_type": "code",
   "execution_count": 37,
   "metadata": {},
   "outputs": [
    {
     "name": "stdout",
     "output_type": "stream",
     "text": [
      "worst-case for tuples 0.2626293999928748\n",
      "worst-case for sets 0.12834469999506837\n"
     ]
    }
   ],
   "source": [
    "print(\"worst-case for tuples\", timeit.timeit('7 in (1, 3, 5)')) \n",
    "print(\"worst-case for sets\",timeit.timeit('7 in {1, 3, 5}'))"
   ]
  }
 ],
 "metadata": {
  "kernelspec": {
   "display_name": "Python 3.6",
   "language": "python",
   "name": "python36"
  },
  "language_info": {
   "codemirror_mode": {
    "name": "ipython",
    "version": 3
   },
   "file_extension": ".py",
   "mimetype": "text/x-python",
   "name": "python",
   "nbconvert_exporter": "python",
   "pygments_lexer": "ipython3",
   "version": "3.6.3"
  }
 },
 "nbformat": 4,
 "nbformat_minor": 2
}
